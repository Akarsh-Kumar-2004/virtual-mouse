def move_mouse(index_finger_tip):
    if index_finger_tip is not None:
        x = int(index_finger_tip.x * screen_width)
        y = int(index_finger_tip.y * screen_height)
        pyautogui.moveTo(x, y)
        
        
def is_left_click(landmarks_list, thumb_index_dist):
    return (util.get_angle(landmarks_list[5], landmarks_list[6], landmarks_list[8]) < 50 and
            util.get_angle(landmarks_list[9], landmarks_list[10], landmarks_list[12]) > 90 and
            thumb_index_dist > 50)

def is_right_click(landmarks_list, thumb_index_dist):
    return (util.get_angle(landmarks_list[5], landmarks_list[6], landmarks_list[8]) > 90 and
            util.get_angle(landmarks_list[9], landmarks_list[10], landmarks_list[12]) < 50 and
            thumb_index_dist > 50)
    

def is_double_click(landmarks_list, thumb_index_dist):
    return (
        util.get_angle(landmarks_list[5], landmarks_list[6], landmarks_list[8]) < 50 and
        util.get_angle(landmarks_list[9], landmarks_list[10], landmarks_list[12]) < 50 and
        thumb_index_dist > 50
    )

def is_screenshot(landmarks_list, thumb_index_dist):
    return (
        util.get_angle(landmarks_list[5], landmarks_list[6], landmarks_list[8]) < 50 and
        util.get_angle(landmarks_list[9], landmarks_list[10], landmarks_list[12]) < 50 and
        thumb_index_dist < 50
    )
def is_scroll_up(landmarks_list):
    """Detects if only the index finger is open."""
    return (
        util.get_distance([landmarks_list[8], landmarks_list[5]]) > 50  # Index extended
        and util.get_distance([landmarks_list[12], landmarks_list[9]]) < 30  # Middle closed
        and util.get_distance([landmarks_list[16], landmarks_list[13]]) < 30  # Ring closed
        and util.get_distance([landmarks_list[20], landmarks_list[17]]) < 30  # Pinky closed
        and util.get_distance([landmarks_list[4], landmarks_list[5]]) < 50  # Thumb near index
    )

def is_scroll_down(landmarks_list):
    """Detects if only the pinky finger is open."""
    return (
        util.get_distance([landmarks_list[20], landmarks_list[17]]) > 50  # Pinky extended
        and util.get_distance([landmarks_list[8], landmarks_list[5]]) < 30  # Index closed
        and util.get_distance([landmarks_list[12], landmarks_list[9]]) < 30  # Middle closed
        and util.get_distance([landmarks_list[16], landmarks_list[13]]) < 30  # Ring closed
        and util.get_distance([landmarks_list[4], landmarks_list[5]]) < 50  # Thumb near index
    )



def find_finger_tip(processed):
    if processed.multi_hand_landmarks:
        hand_landmarks = processed.multi_hand_landmarks[0]
        return hand_landmarks.landmark[mpHands.HandLandmark.INDEX_FINGER_TIP]

    return None

def detect_gestures(frame, landmarks_list, processed):
    if len(landmarks_list)>=21:
        index_finger_tip = find_finger_tip(processed)
        thumb_index_dist = util.get_distance([landmarks_list[4], landmarks_list[5]])
        if thumb_index_dist < 50 and util.get_angle(landmarks_list[5], landmarks_list[6], landmarks_list[8])>90:
            move_mouse(index_finger_tip)
        elif is_left_click(landmarks_list, thumb_index_dist):
            mouse.press(Button.left)
            mouse.release(Button.left)
            cv2.putText(frame, "Left Click", (50, 50), cv2.FONT_HERSHEY_SIMPLEX, 1, (0, 255, 0), 2)
        
        elif is_right_click(landmarks_list, thumb_index_dist):
            mouse.press(Button.right)
            mouse.release(Button.right)
            cv2.putText(frame, "right Click", (50, 50), cv2.FONT_HERSHEY_SIMPLEX, 1, (0, 255, 0), 2)
            
        elif is_double_click(landmarks_list, thumb_index_dist):
            pyautogui.doubleClick()
            cv2.putText(frame, "Double Click", (50, 50), cv2.FONT_HERSHEY_SIMPLEX, 1, (255, 255, 0), 2)

        elif is_screenshot(landmarks_list, thumb_index_dist):
            im1 = pyautogui.screenshot()
            label = 0
            im1.save(f'ss_{label}.png')
            label=label+1
            cv2.putText(frame, "Screenshot ", (50, 50), cv2.FONT_HERSHEY_SIMPLEX, 1, (255, 255, 0), 2)
            
            
        elif is_scroll_up(landmarks_list):
            pyautogui.scroll(20)  # Scroll up
            cv2.putText(frame, "Scroll Up", (50, 50), cv2.FONT_HERSHEY_SIMPLEX, 1, (255, 0, 255), 2)

        elif is_scroll_down(landmarks_list):
            pyautogui.scroll(-20)  # Scroll down
            cv2.putText(frame, "Scroll Down", (50, 50), cv2.FONT_HERSHEY_SIMPLEX, 1, (255, 0, 255), 2)

        
            
        